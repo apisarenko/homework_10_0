{
 "cells": [
  {
   "cell_type": "code",
   "execution_count": 1,
   "metadata": {},
   "outputs": [],
   "source": [
    "import pandas as pd"
   ]
  },
  {
   "cell_type": "code",
   "execution_count": 2,
   "metadata": {},
   "outputs": [],
   "source": [
    "list_of_year = [1880]\n",
    "df_list = []\n",
    "for year in list_of_year:\n",
    "    df = pd.read_csv('C:\\\\Users\\\\Андрей\\\\Downloads\\\\names\\\\yob' + str(year) + '.txt', \n",
    "                           names=['Name', 'Gender', 'Quantity'])\n",
    "    df['Year'] = year\n",
    "    df_list.append(df)\n",
    "df_out = pd.concat(df_list)\n",
    "group_df_out = df_out.groupby(['Name']).sum()\n",
    "out = group_df_out.sort_values(['Quantity'], ascending=False).head(3)"
   ]
  },
  {
   "cell_type": "code",
   "execution_count": 3,
   "metadata": {},
   "outputs": [
    {
     "data": {
      "text/plain": [
       "Name\n",
       "John       9701\n",
       "William    9562\n",
       "Mary       7092\n",
       "Name: Quantity, dtype: int64"
      ]
     },
     "execution_count": 3,
     "metadata": {},
     "output_type": "execute_result"
    }
   ],
   "source": [
    "out.Quantity\n"
   ]
  },
  {
   "cell_type": "code",
   "execution_count": 4,
   "metadata": {},
   "outputs": [],
   "source": [
    "list_of_year = [1900, 1950, 2000]\n",
    "df_list = []\n",
    "for year in list_of_year:\n",
    "    df = pd.read_csv('C:\\\\Users\\\\Андрей\\\\Downloads\\\\names\\\\yob' + str(year) + '.txt', \n",
    "                           names=['Name', 'Gender', 'Quantity'])\n",
    "    df['Year'] = year\n",
    "    df_list.append(df)\n",
    "df_out = pd.concat(df_list)\n",
    "group_df_out = df_out.groupby(['Name']).sum()\n",
    "out = group_df_out.sort_values(['Quantity'], ascending=False).head(3)"
   ]
  },
  {
   "cell_type": "code",
   "execution_count": 5,
   "metadata": {},
   "outputs": [
    {
     "data": {
      "text/plain": [
       "Name\n",
       "James     111798\n",
       "John      109593\n",
       "Robert    101373\n",
       "Name: Quantity, dtype: int64"
      ]
     },
     "execution_count": 5,
     "metadata": {},
     "output_type": "execute_result"
    }
   ],
   "source": [
    "out.Quantity"
   ]
  },
  {
   "cell_type": "code",
   "execution_count": null,
   "metadata": {},
   "outputs": [],
   "source": []
  }
 ],
 "metadata": {
  "kernelspec": {
   "display_name": "Python 3",
   "language": "python",
   "name": "python3"
  },
  "language_info": {
   "codemirror_mode": {
    "name": "ipython",
    "version": 3
   },
   "file_extension": ".py",
   "mimetype": "text/x-python",
   "name": "python",
   "nbconvert_exporter": "python",
   "pygments_lexer": "ipython3",
   "version": "3.7.3"
  }
 },
 "nbformat": 4,
 "nbformat_minor": 2
}
